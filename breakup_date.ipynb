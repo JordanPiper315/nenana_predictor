{
 "cells": [
  {
   "cell_type": "code",
   "execution_count": 1,
   "metadata": {},
   "outputs": [],
   "source": [
    "# Load system libraries.\n",
    "import os\n",
    "import re\n",
    "import sys\n",
    "import collections\n",
    "import functools\n",
    "import logging\n",
    "logging.basicConfig(\n",
    "    format='%(asctime)s %(message)s', \n",
    "    datefmt='%H:%M:%S',\n",
    "    level=logging.INFO, \n",
    "    stream=sys.stdout\n",
    ")\n",
    "\n",
    "# Libraries for data wrangling.\n",
    "import numpy as np\n",
    "import pandas as pd\n",
    "import scipy as sc\n",
    "import sklearn\n",
    "import joblib\n",
    "pd.set_option('display.max_rows', 100)\n",
    "pd.set_option('display.max_columns', 100)\n",
    "\n",
    "# Machine learning.\n",
    "from sklearn import preprocessing\n",
    "from sklearn import model_selection\n",
    "from sklearn.pipeline import Pipeline\n",
    "\n",
    "from sklearn.dummy import DummyClassifier\n",
    "from sklearn.linear_model import LogisticRegression, Perceptron, SGDClassifier, Ridge, Lasso, LinearRegression\n",
    "from sklearn.svm import SVC, LinearSVC, SVR\n",
    "from sklearn.neighbors import KNeighborsClassifier, KNeighborsRegressor\n",
    "from sklearn.naive_bayes import GaussianNB\n",
    "from sklearn.tree import DecisionTreeClassifier, DecisionTreeRegressor\n",
    "from sklearn.ensemble import RandomForestClassifier, AdaBoostClassifier, \\\n",
    "    GradientBoostingClassifier, ExtraTreesClassifier, VotingClassifier, RandomForestRegressor, GradientBoostingRegressor, AdaBoostRegressor\n",
    "from sklearn.neural_network import MLPClassifier\n",
    "from xgboost import XGBClassifier, XGBRegressor\n",
    "\n",
    "from sklearn.ensemble import VotingClassifier, RandomForestClassifier, GradientBoostingClassifier, AdaBoostClassifier\n",
    "\n",
    "from sklearn.model_selection import cross_val_score, KFold\n",
    "\n",
    "# Visualization libraries.\n",
    "import matplotlib as mpl\n",
    "import matplotlib.pyplot as plt\n",
    "import seaborn as sns\n",
    "import tqdm\n",
    "%matplotlib inline\n",
    "%config InlineBackend.figure_format = 'retina'\n",
    "#sns.set_context('poster')\n",
    "#sns.set(rc={'figure.figsize': (3, 3)})\n",
    "#sns.set_style('whitegrid')\n",
    "tqdm = functools.partial(tqdm.tqdm, file=sys.stdout, position=0, leave=True)\n",
    "\n",
    "import warnings\n",
    "warnings.simplefilter(action='ignore', category=FutureWarning)\n",
    "\n",
    "# Local modules.\n",
    "%load_ext autoreload\n",
    "%autoreload 2"
   ]
  },
  {
   "cell_type": "code",
   "execution_count": 2,
   "metadata": {},
   "outputs": [
    {
     "data": {
      "text/html": [
       "<div>\n",
       "<style scoped>\n",
       "    .dataframe tbody tr th:only-of-type {\n",
       "        vertical-align: middle;\n",
       "    }\n",
       "\n",
       "    .dataframe tbody tr th {\n",
       "        vertical-align: top;\n",
       "    }\n",
       "\n",
       "    .dataframe thead th {\n",
       "        text-align: right;\n",
       "    }\n",
       "</style>\n",
       "<table border=\"1\" class=\"dataframe\">\n",
       "  <thead>\n",
       "    <tr style=\"text-align: right;\">\n",
       "      <th></th>\n",
       "      <th>Year</th>\n",
       "      <th>Decimal Day of Year</th>\n",
       "      <th>Month</th>\n",
       "      <th>Day</th>\n",
       "      <th>Time (AKST)</th>\n",
       "      <th>Unnamed: 5</th>\n",
       "      <th>Unnamed: 6</th>\n",
       "    </tr>\n",
       "  </thead>\n",
       "  <tbody>\n",
       "    <tr>\n",
       "      <th>0</th>\n",
       "      <td>1917</td>\n",
       "      <td>120.4792</td>\n",
       "      <td>April</td>\n",
       "      <td>30</td>\n",
       "      <td>11:30</td>\n",
       "      <td>NaN</td>\n",
       "      <td>NaN</td>\n",
       "    </tr>\n",
       "    <tr>\n",
       "      <th>1</th>\n",
       "      <td>1918</td>\n",
       "      <td>131.3979</td>\n",
       "      <td>May</td>\n",
       "      <td>11</td>\n",
       "      <td>9:33</td>\n",
       "      <td>NaN</td>\n",
       "      <td>NaN</td>\n",
       "    </tr>\n",
       "    <tr>\n",
       "      <th>2</th>\n",
       "      <td>1919</td>\n",
       "      <td>123.6063</td>\n",
       "      <td>May</td>\n",
       "      <td>3</td>\n",
       "      <td>14:33</td>\n",
       "      <td>NaN</td>\n",
       "      <td>NaN</td>\n",
       "    </tr>\n",
       "    <tr>\n",
       "      <th>3</th>\n",
       "      <td>1920</td>\n",
       "      <td>132.4486</td>\n",
       "      <td>May</td>\n",
       "      <td>11</td>\n",
       "      <td>10:46</td>\n",
       "      <td>NaN</td>\n",
       "      <td>NaN</td>\n",
       "    </tr>\n",
       "    <tr>\n",
       "      <th>4</th>\n",
       "      <td>1921</td>\n",
       "      <td>131.2792</td>\n",
       "      <td>May</td>\n",
       "      <td>11</td>\n",
       "      <td>6:42</td>\n",
       "      <td>NaN</td>\n",
       "      <td>NaN</td>\n",
       "    </tr>\n",
       "    <tr>\n",
       "      <th>5</th>\n",
       "      <td>1922</td>\n",
       "      <td>132.5556</td>\n",
       "      <td>May</td>\n",
       "      <td>12</td>\n",
       "      <td>13:20</td>\n",
       "      <td>NaN</td>\n",
       "      <td>NaN</td>\n",
       "    </tr>\n",
       "    <tr>\n",
       "      <th>6</th>\n",
       "      <td>1923</td>\n",
       "      <td>129.0833</td>\n",
       "      <td>May</td>\n",
       "      <td>9</td>\n",
       "      <td>2:00</td>\n",
       "      <td>NaN</td>\n",
       "      <td>NaN</td>\n",
       "    </tr>\n",
       "    <tr>\n",
       "      <th>7</th>\n",
       "      <td>1924</td>\n",
       "      <td>132.6319</td>\n",
       "      <td>May</td>\n",
       "      <td>11</td>\n",
       "      <td>15:10</td>\n",
       "      <td>NaN</td>\n",
       "      <td>NaN</td>\n",
       "    </tr>\n",
       "    <tr>\n",
       "      <th>8</th>\n",
       "      <td>1925</td>\n",
       "      <td>127.7722</td>\n",
       "      <td>May</td>\n",
       "      <td>7</td>\n",
       "      <td>18:32</td>\n",
       "      <td>NaN</td>\n",
       "      <td>NaN</td>\n",
       "    </tr>\n",
       "    <tr>\n",
       "      <th>9</th>\n",
       "      <td>1926</td>\n",
       "      <td>116.6688</td>\n",
       "      <td>April</td>\n",
       "      <td>26</td>\n",
       "      <td>16:03</td>\n",
       "      <td>NaN</td>\n",
       "      <td>NaN</td>\n",
       "    </tr>\n",
       "  </tbody>\n",
       "</table>\n",
       "</div>"
      ],
      "text/plain": [
       "   Year  Decimal Day of Year  Month  Day Time (AKST)  Unnamed: 5  Unnamed: 6\n",
       "0  1917             120.4792  April   30       11:30         NaN         NaN\n",
       "1  1918             131.3979    May   11        9:33         NaN         NaN\n",
       "2  1919             123.6063    May    3       14:33         NaN         NaN\n",
       "3  1920             132.4486    May   11       10:46         NaN         NaN\n",
       "4  1921             131.2792    May   11        6:42         NaN         NaN\n",
       "5  1922             132.5556    May   12       13:20         NaN         NaN\n",
       "6  1923             129.0833    May    9        2:00         NaN         NaN\n",
       "7  1924             132.6319    May   11       15:10         NaN         NaN\n",
       "8  1925             127.7722    May    7       18:32         NaN         NaN\n",
       "9  1926             116.6688  April   26       16:03         NaN         NaN"
      ]
     },
     "execution_count": 2,
     "metadata": {},
     "output_type": "execute_result"
    }
   ],
   "source": [
    "breakup_data_df=pd.read_csv('data/NenanaIceClassic_1917-2024.csv')\n",
    "breakup_data_df.head(10)"
   ]
  },
  {
   "cell_type": "code",
   "execution_count": 3,
   "metadata": {},
   "outputs": [
    {
     "data": {
      "text/plain": [
       "['Year',\n",
       " 'Decimal Day of Year',\n",
       " 'Month',\n",
       " 'Day',\n",
       " 'Time (AKST)',\n",
       " 'Unnamed: 5',\n",
       " 'Unnamed: 6']"
      ]
     },
     "execution_count": 3,
     "metadata": {},
     "output_type": "execute_result"
    }
   ],
   "source": [
    "breakup_data_df.columns.tolist()"
   ]
  },
  {
   "cell_type": "code",
   "execution_count": 4,
   "metadata": {},
   "outputs": [
    {
     "data": {
      "text/html": [
       "<div>\n",
       "<style scoped>\n",
       "    .dataframe tbody tr th:only-of-type {\n",
       "        vertical-align: middle;\n",
       "    }\n",
       "\n",
       "    .dataframe tbody tr th {\n",
       "        vertical-align: top;\n",
       "    }\n",
       "\n",
       "    .dataframe thead th {\n",
       "        text-align: right;\n",
       "    }\n",
       "</style>\n",
       "<table border=\"1\" class=\"dataframe\">\n",
       "  <thead>\n",
       "    <tr style=\"text-align: right;\">\n",
       "      <th></th>\n",
       "      <th>Year</th>\n",
       "      <th>Decimal Day of Year</th>\n",
       "      <th>Month</th>\n",
       "      <th>Day</th>\n",
       "      <th>Time (AKST)</th>\n",
       "    </tr>\n",
       "  </thead>\n",
       "  <tbody>\n",
       "    <tr>\n",
       "      <th>0</th>\n",
       "      <td>1917</td>\n",
       "      <td>120.4792</td>\n",
       "      <td>April</td>\n",
       "      <td>30</td>\n",
       "      <td>11:30</td>\n",
       "    </tr>\n",
       "    <tr>\n",
       "      <th>1</th>\n",
       "      <td>1918</td>\n",
       "      <td>131.3979</td>\n",
       "      <td>May</td>\n",
       "      <td>11</td>\n",
       "      <td>9:33</td>\n",
       "    </tr>\n",
       "    <tr>\n",
       "      <th>2</th>\n",
       "      <td>1919</td>\n",
       "      <td>123.6063</td>\n",
       "      <td>May</td>\n",
       "      <td>3</td>\n",
       "      <td>14:33</td>\n",
       "    </tr>\n",
       "    <tr>\n",
       "      <th>3</th>\n",
       "      <td>1920</td>\n",
       "      <td>132.4486</td>\n",
       "      <td>May</td>\n",
       "      <td>11</td>\n",
       "      <td>10:46</td>\n",
       "    </tr>\n",
       "    <tr>\n",
       "      <th>4</th>\n",
       "      <td>1921</td>\n",
       "      <td>131.2792</td>\n",
       "      <td>May</td>\n",
       "      <td>11</td>\n",
       "      <td>6:42</td>\n",
       "    </tr>\n",
       "  </tbody>\n",
       "</table>\n",
       "</div>"
      ],
      "text/plain": [
       "   Year  Decimal Day of Year  Month  Day Time (AKST)\n",
       "0  1917             120.4792  April   30       11:30\n",
       "1  1918             131.3979    May   11        9:33\n",
       "2  1919             123.6063    May    3       14:33\n",
       "3  1920             132.4486    May   11       10:46\n",
       "4  1921             131.2792    May   11        6:42"
      ]
     },
     "execution_count": 4,
     "metadata": {},
     "output_type": "execute_result"
    }
   ],
   "source": [
    "breakup_data_df.drop('Unnamed: 5', axis=1, inplace=True)\n",
    "breakup_data_df.drop('Unnamed: 6', axis=1, inplace=True)\n",
    "breakup_data_df.head()"
   ]
  },
  {
   "cell_type": "code",
   "execution_count": 5,
   "metadata": {},
   "outputs": [
    {
     "data": {
      "text/plain": [
       "Year                   0.0\n",
       "Decimal Day of Year    0.0\n",
       "Month                  0.0\n",
       "Day                    0.0\n",
       "Time (AKST)            0.0\n",
       "dtype: float64"
      ]
     },
     "execution_count": 5,
     "metadata": {},
     "output_type": "execute_result"
    }
   ],
   "source": [
    "breakup_data_df.isnull().sum()/len(breakup_data_df)*100"
   ]
  },
  {
   "cell_type": "code",
   "execution_count": 6,
   "metadata": {},
   "outputs": [
    {
     "data": {
      "text/plain": [
       "Year                     int64\n",
       "Decimal Day of Year    float64\n",
       "Month                   object\n",
       "Day                      int64\n",
       "Time (AKST)             object\n",
       "dtype: object"
      ]
     },
     "execution_count": 6,
     "metadata": {},
     "output_type": "execute_result"
    }
   ],
   "source": [
    "breakup_data_df.dtypes"
   ]
  },
  {
   "cell_type": "code",
   "execution_count": 7,
   "metadata": {},
   "outputs": [],
   "source": [
    "breakup_data_df.rename(columns={'Decimal Day of Year': 'Decimal Time of Year'}, inplace=True)"
   ]
  },
  {
   "cell_type": "code",
   "execution_count": null,
   "metadata": {},
   "outputs": [],
   "source": [
    "breakup_data_df.replace({'April': 4, 'May': 5}, inplace=True)"
   ]
  },
  {
   "cell_type": "code",
   "execution_count": 10,
   "metadata": {},
   "outputs": [],
   "source": [
    "breakup_data_df['Time in Hours(AKST)'] = breakup_data_df['Time (AKST)'].copy()"
   ]
  },
  {
   "cell_type": "code",
   "execution_count": 11,
   "metadata": {},
   "outputs": [],
   "source": [
    "breakup_data_df['Time in Minutes(AKST)'] = None"
   ]
  },
  {
   "cell_type": "code",
   "execution_count": 12,
   "metadata": {},
   "outputs": [],
   "source": [
    "breakup_data_df['Time in Minutes(AKST)'] = breakup_data_df['Time in Hours(AKST)'].copy()"
   ]
  },
  {
   "cell_type": "code",
   "execution_count": 13,
   "metadata": {},
   "outputs": [],
   "source": [
    "breakup_data_df['Time in Hours(AKST)'] = breakup_data_df['Time in Hours(AKST)'].apply(lambda x:int(x.split(':')[0]))"
   ]
  },
  {
   "cell_type": "code",
   "execution_count": 14,
   "metadata": {},
   "outputs": [
    {
     "data": {
      "text/plain": [
       "Year                       int64\n",
       "Decimal Time of Year     float64\n",
       "Month                      int64\n",
       "Day                        int64\n",
       "Time (AKST)               object\n",
       "Time in Hours(AKST)        int64\n",
       "Time in Minutes(AKST)     object\n",
       "dtype: object"
      ]
     },
     "execution_count": 14,
     "metadata": {},
     "output_type": "execute_result"
    }
   ],
   "source": [
    "breakup_data_df.dtypes"
   ]
  },
  {
   "cell_type": "code",
   "execution_count": 15,
   "metadata": {},
   "outputs": [],
   "source": [
    "breakup_data_df['Time in Minutes(AKST)'] = breakup_data_df['Time in Minutes(AKST)'].apply(lambda x:int(x.split(':')[1]))"
   ]
  },
  {
   "cell_type": "code",
   "execution_count": 16,
   "metadata": {},
   "outputs": [
    {
     "data": {
      "text/plain": [
       "Year                       int64\n",
       "Decimal Time of Year     float64\n",
       "Month                      int64\n",
       "Day                        int64\n",
       "Time (AKST)               object\n",
       "Time in Hours(AKST)        int64\n",
       "Time in Minutes(AKST)      int64\n",
       "dtype: object"
      ]
     },
     "execution_count": 16,
     "metadata": {},
     "output_type": "execute_result"
    }
   ],
   "source": [
    "breakup_data_df.dtypes"
   ]
  },
  {
   "cell_type": "code",
   "execution_count": 17,
   "metadata": {},
   "outputs": [],
   "source": [
    "breakup_data_df['Time in Minutes(AKST)'] = breakup_data_df['Time in Minutes(AKST)'].apply(lambda x:x/60)"
   ]
  },
  {
   "cell_type": "code",
   "execution_count": 18,
   "metadata": {},
   "outputs": [],
   "source": [
    "breakup_data_df = breakup_data_df.rename(columns={'Time in Minutes(AKST)': 'Minutes in Decimal(AKST)'})"
   ]
  },
  {
   "cell_type": "code",
   "execution_count": 20,
   "metadata": {},
   "outputs": [
    {
     "name": "stdout",
     "output_type": "stream",
     "text": [
      "Freq counts for col 'Year':\n",
      "Year\n",
      "1917    1\n",
      "1985    1\n",
      "1996    1\n",
      "1995    1\n",
      "1994    1\n",
      "       ..\n",
      "1949    1\n",
      "1948    1\n",
      "1947    1\n",
      "1946    1\n",
      "2024    1\n",
      "Name: count, Length: 108, dtype: int64\n",
      "\n",
      "Freq counts for col 'Decimal Time of Year':\n",
      "Decimal Time of Year\n",
      "120.4792    1\n",
      "131.6083    1\n",
      "126.5222    1\n",
      "116.5569    1\n",
      "119.9590    1\n",
      "           ..\n",
      "134.5271    1\n",
      "134.4674    1\n",
      "123.7451    1\n",
      "125.6944    1\n",
      "118.2208    1\n",
      "Name: count, Length: 108, dtype: int64\n",
      "\n",
      "Freq counts for col 'Month':\n",
      "Month\n",
      "5    70\n",
      "4    38\n",
      "Name: count, dtype: int64\n",
      "\n",
      "Freq counts for col 'Day':\n",
      "Day\n",
      "30    10\n",
      "8      9\n",
      "29     9\n",
      "1      8\n",
      "6      7\n",
      "5      7\n",
      "4      5\n",
      "11     5\n",
      "12     4\n",
      "10     4\n",
      "27     4\n",
      "2      4\n",
      "20     4\n",
      "9      3\n",
      "23     3\n",
      "24     3\n",
      "14     3\n",
      "3      3\n",
      "28     3\n",
      "7      3\n",
      "13     2\n",
      "26     2\n",
      "16     1\n",
      "15     1\n",
      "25     1\n",
      "Name: count, dtype: int64\n",
      "\n",
      "Freq counts for col 'Time (AKST)':\n",
      "Time (AKST)\n",
      "20:14    2\n",
      "11:30    1\n",
      "14:36    1\n",
      "12:32    1\n",
      "13:22    1\n",
      "        ..\n",
      "16:14    1\n",
      "12:39    1\n",
      "11:13    1\n",
      "17:53    1\n",
      "5:18     1\n",
      "Name: count, Length: 107, dtype: int64\n",
      "\n",
      "Freq counts for col 'Time in Hours(AKST)':\n",
      "Time in Hours(AKST)\n",
      "15    11\n",
      "13    10\n",
      "12    10\n",
      "14     9\n",
      "11     8\n",
      "18     8\n",
      "16     7\n",
      "9      7\n",
      "17     6\n",
      "10     6\n",
      "19     6\n",
      "20     4\n",
      "21     3\n",
      "23     3\n",
      "22     2\n",
      "5      2\n",
      "6      2\n",
      "0      2\n",
      "1      1\n",
      "2      1\n",
      "Name: count, dtype: int64\n",
      "\n",
      "Freq counts for col 'Minutes in Decimal(AKST)':\n",
      "Minutes in Decimal(AKST)\n",
      "0.016667    6\n",
      "0.683333    5\n",
      "0.783333    4\n",
      "0.433333    4\n",
      "0.500000    3\n",
      "0.933333    3\n",
      "0.900000    3\n",
      "0.366667    3\n",
      "0.466667    3\n",
      "0.833333    3\n",
      "0.233333    3\n",
      "0.066667    3\n",
      "0.550000    3\n",
      "0.650000    3\n",
      "0.416667    3\n",
      "0.533333    3\n",
      "0.300000    3\n",
      "0.000000    3\n",
      "0.266667    3\n",
      "0.516667    2\n",
      "0.616667    2\n",
      "0.733333    2\n",
      "0.400000    2\n",
      "0.600000    2\n",
      "0.183333    2\n",
      "0.883333    2\n",
      "0.216667    2\n",
      "0.250000    2\n",
      "0.766667    2\n",
      "0.700000    2\n",
      "0.383333    2\n",
      "0.050000    2\n",
      "0.450000    2\n",
      "0.116667    1\n",
      "0.333333    1\n",
      "0.800000    1\n",
      "0.100000    1\n",
      "0.483333    1\n",
      "0.133333    1\n",
      "0.316667    1\n",
      "0.166667    1\n",
      "0.200000    1\n",
      "0.850000    1\n",
      "0.816667    1\n",
      "0.666667    1\n",
      "0.983333    1\n",
      "0.966667    1\n",
      "0.916667    1\n",
      "0.350000    1\n",
      "Name: count, dtype: int64\n",
      "\n"
     ]
    }
   ],
   "source": [
    "freq = {col: breakup_data_df[col].value_counts() for col in breakup_data_df.columns}\n",
    "for col, counts in freq.items():\n",
    "  print(f\"Freq counts for col '{col}':\\n{counts}\\n\")"
   ]
  },
  {
   "cell_type": "code",
   "execution_count": null,
   "metadata": {},
   "outputs": [],
   "source": []
  }
 ],
 "metadata": {
  "kernelspec": {
   "display_name": ".venv",
   "language": "python",
   "name": "python3"
  },
  "language_info": {
   "codemirror_mode": {
    "name": "ipython",
    "version": 3
   },
   "file_extension": ".py",
   "mimetype": "text/x-python",
   "name": "python",
   "nbconvert_exporter": "python",
   "pygments_lexer": "ipython3",
   "version": "3.9.9"
  }
 },
 "nbformat": 4,
 "nbformat_minor": 2
}
